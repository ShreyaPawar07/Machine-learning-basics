{
 "cells": [
  {
   "cell_type": "markdown",
   "id": "6c6d7d3d",
   "metadata": {},
   "source": [
    "# Model Training"
   ]
  },
  {
   "cell_type": "raw",
   "id": "ab91c6dc",
   "metadata": {},
   "source": [
    "Importing important models and packages"
   ]
  },
  {
   "cell_type": "code",
   "execution_count": 4,
   "id": "589bb8d7",
   "metadata": {},
   "outputs": [],
   "source": [
    "# basic import\n",
    "import numpy as np\n",
    "import pandas as pd\n",
    "import matplotlib.pyplot as plt\n",
    "import seaborn as sns\n",
    "# modelling\n",
    "from sklearn.metrics import mean_absolute_error ,mean_squared_error , r2_score\n",
    "from sklearn.neighbors import KNeighborsRegressor\n",
    "from sklearn.svm import SVR\n",
    "from sklearn.tree import DecisionTreeRegressor\n",
    "from sklearn.ensemble import RandomForestRegressor,AdaBoostRegressor\n",
    "from sklearn.linear_model import LinearRegression , Ridge , Lasso \n",
    "from sklearn.model_selection import RandomizedSearchCV\n",
    "from catboost import CatBoostRegressor\n",
    "from xgboost import XGBRegressor\n",
    "import warnings"
   ]
  },
  {
   "cell_type": "markdown",
   "id": "8a37f57e",
   "metadata": {},
   "source": [
    "# Import csv data as pandas df"
   ]
  },
  {
   "cell_type": "code",
   "execution_count": 5,
   "id": "f069baab",
   "metadata": {},
   "outputs": [],
   "source": [
    "df = pd.read_csv('S:/ml resources/data.csv')"
   ]
  },
  {
   "cell_type": "code",
   "execution_count": 6,
   "id": "21a39fd6",
   "metadata": {},
   "outputs": [
    {
     "data": {
      "text/html": [
       "<div>\n",
       "<style scoped>\n",
       "    .dataframe tbody tr th:only-of-type {\n",
       "        vertical-align: middle;\n",
       "    }\n",
       "\n",
       "    .dataframe tbody tr th {\n",
       "        vertical-align: top;\n",
       "    }\n",
       "\n",
       "    .dataframe thead th {\n",
       "        text-align: right;\n",
       "    }\n",
       "</style>\n",
       "<table border=\"1\" class=\"dataframe\">\n",
       "  <thead>\n",
       "    <tr style=\"text-align: right;\">\n",
       "      <th></th>\n",
       "      <th>gender</th>\n",
       "      <th>race_ethnicity</th>\n",
       "      <th>parental_level_of_education</th>\n",
       "      <th>lunch</th>\n",
       "      <th>test_preparation_course</th>\n",
       "      <th>math_score</th>\n",
       "      <th>reading_score</th>\n",
       "      <th>writing_score</th>\n",
       "    </tr>\n",
       "  </thead>\n",
       "  <tbody>\n",
       "    <tr>\n",
       "      <th>0</th>\n",
       "      <td>female</td>\n",
       "      <td>group B</td>\n",
       "      <td>bachelor's degree</td>\n",
       "      <td>standard</td>\n",
       "      <td>none</td>\n",
       "      <td>72</td>\n",
       "      <td>72</td>\n",
       "      <td>74</td>\n",
       "    </tr>\n",
       "    <tr>\n",
       "      <th>1</th>\n",
       "      <td>female</td>\n",
       "      <td>group C</td>\n",
       "      <td>some college</td>\n",
       "      <td>standard</td>\n",
       "      <td>completed</td>\n",
       "      <td>69</td>\n",
       "      <td>90</td>\n",
       "      <td>88</td>\n",
       "    </tr>\n",
       "    <tr>\n",
       "      <th>2</th>\n",
       "      <td>female</td>\n",
       "      <td>group B</td>\n",
       "      <td>master's degree</td>\n",
       "      <td>standard</td>\n",
       "      <td>none</td>\n",
       "      <td>90</td>\n",
       "      <td>95</td>\n",
       "      <td>93</td>\n",
       "    </tr>\n",
       "    <tr>\n",
       "      <th>3</th>\n",
       "      <td>male</td>\n",
       "      <td>group A</td>\n",
       "      <td>associate's degree</td>\n",
       "      <td>free/reduced</td>\n",
       "      <td>none</td>\n",
       "      <td>47</td>\n",
       "      <td>57</td>\n",
       "      <td>44</td>\n",
       "    </tr>\n",
       "    <tr>\n",
       "      <th>4</th>\n",
       "      <td>male</td>\n",
       "      <td>group C</td>\n",
       "      <td>some college</td>\n",
       "      <td>standard</td>\n",
       "      <td>none</td>\n",
       "      <td>76</td>\n",
       "      <td>78</td>\n",
       "      <td>75</td>\n",
       "    </tr>\n",
       "  </tbody>\n",
       "</table>\n",
       "</div>"
      ],
      "text/plain": [
       "   gender race_ethnicity parental_level_of_education         lunch  \\\n",
       "0  female        group B           bachelor's degree      standard   \n",
       "1  female        group C                some college      standard   \n",
       "2  female        group B             master's degree      standard   \n",
       "3    male        group A          associate's degree  free/reduced   \n",
       "4    male        group C                some college      standard   \n",
       "\n",
       "  test_preparation_course  math_score  reading_score  writing_score  \n",
       "0                    none          72             72             74  \n",
       "1               completed          69             90             88  \n",
       "2                    none          90             95             93  \n",
       "3                    none          47             57             44  \n",
       "4                    none          76             78             75  "
      ]
     },
     "execution_count": 6,
     "metadata": {},
     "output_type": "execute_result"
    }
   ],
   "source": [
    "df.head()"
   ]
  },
  {
   "cell_type": "code",
   "execution_count": 7,
   "id": "44183cfe",
   "metadata": {},
   "outputs": [],
   "source": [
    "x = df.drop(columns=['math_score'] ,axis=1)"
   ]
  },
  {
   "cell_type": "code",
   "execution_count": 8,
   "id": "569b8cae",
   "metadata": {},
   "outputs": [],
   "source": [
    "y = df['math_score']"
   ]
  },
  {
   "cell_type": "code",
   "execution_count": 11,
   "id": "bb7c36b9",
   "metadata": {},
   "outputs": [],
   "source": [
    "num_features = x.select_dtypes(exclude=\"object\").columns\n",
    "cat_features = x.select_dtypes(include='object').columns\n",
    "\n",
    "from sklearn.preprocessing import OneHotEncoder , StandardScaler\n",
    "from sklearn.compose import ColumnTransformer\n",
    "\n",
    "numerical_transformer = StandardScaler()\n",
    "oh_transformer = OneHotEncoder()\n",
    "\n",
    "preprocessor = ColumnTransformer(\n",
    "[\n",
    "    ('OneHotEncoder' , oh_transformer , cat_features),\n",
    "    ('StandarScaler' , numerical_transformer , num_features),\n",
    "]\n",
    ")"
   ]
  },
  {
   "cell_type": "code",
   "execution_count": 12,
   "id": "86d54435",
   "metadata": {},
   "outputs": [],
   "source": [
    "x = preprocessor.fit_transform(x)"
   ]
  },
  {
   "cell_type": "code",
   "execution_count": 16,
   "id": "ef8116b3",
   "metadata": {},
   "outputs": [
    {
     "data": {
      "text/plain": [
       "((700, 19), (300, 19))"
      ]
     },
     "execution_count": 16,
     "metadata": {},
     "output_type": "execute_result"
    }
   ],
   "source": [
    "from sklearn.model_selection import train_test_split\n",
    "x_train ,x_test ,y_train ,y_test = train_test_split(x,y,test_size=0.3,random_state=42)\n",
    "x_train.shape , x_test.shape"
   ]
  },
  {
   "cell_type": "markdown",
   "id": "2f6e5240",
   "metadata": {},
   "source": [
    "# create and evaluate metrics"
   ]
  },
  {
   "cell_type": "code",
   "execution_count": 24,
   "id": "25c4d336",
   "metadata": {},
   "outputs": [],
   "source": [
    "def evaluate_metric(true,predicted):\n",
    "    mae = mean_absolute_error(true,predicted)\n",
    "    mse = mean_squared_error(true,predicted)\n",
    "    rmse = np.sqrt(mse)\n",
    "    r2_square = r2_score(true ,predicted)\n",
    "    return mae , rmse , r2_square"
   ]
  },
  {
   "cell_type": "code",
   "execution_count": 31,
   "id": "7f317b1d",
   "metadata": {},
   "outputs": [
    {
     "name": "stdout",
     "output_type": "stream",
     "text": [
      "LinearRegression\n",
      "Model performance for training set\n",
      " - root mean squared error 5.2483\n",
      " - mean absolute error 4.1985\n",
      " - r2 score for training 0.8751\n",
      "--------------------------------------\n",
      "Model performance for testing set\n",
      " - root mean squared error 5.5576\n",
      " - mean absolute error 4.4183\n",
      " - r2 score for training 0.8759\n",
      "===================================\n",
      "\n",
      "\n",
      "lasso\n",
      "Model performance for training set\n",
      " - root mean squared error 6.5106\n",
      " - mean absolute error 5.1582\n",
      " - r2 score for training 0.8078\n",
      "--------------------------------------\n",
      "Model performance for testing set\n",
      " - root mean squared error 6.8705\n",
      " - mean absolute error 5.3929\n",
      " - r2 score for training 0.8103\n",
      "===================================\n",
      "\n",
      "\n",
      "ridge\n",
      "Model performance for training set\n",
      " - root mean squared error 5.2487\n",
      " - mean absolute error 4.1977\n",
      " - r2 score for training 0.8751\n",
      "--------------------------------------\n",
      "Model performance for testing set\n",
      " - root mean squared error 5.5566\n",
      " - mean absolute error 4.4155\n",
      " - r2 score for training 0.8759\n",
      "===================================\n",
      "\n",
      "\n",
      "kneighbor \n",
      "Model performance for training set\n",
      " - root mean squared error 5.6822\n",
      " - mean absolute error 4.5157\n",
      " - r2 score for training 0.8536\n",
      "--------------------------------------\n",
      "Model performance for testing set\n",
      " - root mean squared error 7.5021\n",
      " - mean absolute error 5.8260\n",
      " - r2 score for training 0.7738\n",
      "===================================\n",
      "\n",
      "\n",
      "DecisionTreeRegressor\n",
      "Model performance for training set\n",
      " - root mean squared error 0.2988\n",
      " - mean absolute error 0.0214\n",
      " - r2 score for training 0.9996\n",
      "--------------------------------------\n",
      "Model performance for testing set\n",
      " - root mean squared error 8.0200\n",
      " - mean absolute error 6.4200\n",
      " - r2 score for training 0.7415\n",
      "===================================\n",
      "\n",
      "\n",
      "RandomForestRegressor\n",
      "Model performance for training set\n",
      " - root mean squared error 2.3234\n",
      " - mean absolute error 1.8392\n",
      " - r2 score for training 0.9755\n",
      "--------------------------------------\n",
      "Model performance for testing set\n",
      " - root mean squared error 6.0930\n",
      " - mean absolute error 4.8317\n",
      " - r2 score for training 0.8508\n",
      "===================================\n",
      "\n",
      "\n",
      "CatBoost\n",
      "Model performance for training set\n",
      " - root mean squared error 2.9221\n",
      " - mean absolute error 2.2890\n",
      " - r2 score for training 0.9613\n",
      "--------------------------------------\n",
      "Model performance for testing set\n",
      " - root mean squared error 6.0661\n",
      " - mean absolute error 4.7633\n",
      " - r2 score for training 0.8521\n",
      "===================================\n",
      "\n",
      "\n",
      "XGBoost\n",
      "Model performance for training set\n",
      " - root mean squared error 0.8436\n",
      " - mean absolute error 0.5412\n",
      " - r2 score for training 0.9968\n",
      "--------------------------------------\n",
      "Model performance for testing set\n",
      " - root mean squared error 6.2621\n",
      " - mean absolute error 4.9241\n",
      " - r2 score for training 0.8424\n",
      "===================================\n",
      "\n",
      "\n",
      "AdaBoost Regressor\n",
      "Model performance for training set\n",
      " - root mean squared error 5.8340\n",
      " - mean absolute error 4.7604\n",
      " - r2 score for training 0.8457\n",
      "--------------------------------------\n",
      "Model performance for testing set\n",
      " - root mean squared error 6.4895\n",
      " - mean absolute error 5.0660\n",
      " - r2 score for training 0.8307\n",
      "===================================\n",
      "\n",
      "\n"
     ]
    }
   ],
   "source": [
    "models={\n",
    "    'LinearRegression' : LinearRegression(),\n",
    "    'lasso' : Lasso(),\n",
    "    'ridge' : Ridge(),\n",
    "    'kneighbor ': KNeighborsRegressor(),\n",
    "    'DecisionTreeRegressor' :  DecisionTreeRegressor(),\n",
    "    'RandomForestRegressor' : RandomForestRegressor(),\n",
    "    'CatBoost' : CatBoostRegressor(verbose= False),\n",
    "    'XGBoost': XGBRegressor(),\n",
    "    'AdaBoost Regressor': AdaBoostRegressor() \n",
    "}\n",
    "\n",
    "model_list=[]\n",
    "r2_list = []\n",
    "\n",
    "for i in range(len(list(models))):\n",
    "    model = list(models.values())[i]\n",
    "    model.fit(x_train,y_train)\n",
    "    \n",
    "    # model predicted\n",
    "    y_train_predict = model.predict(x_train)\n",
    "    y_test_predict = model.predict(x_test)\n",
    "    \n",
    "    # evaluate \n",
    "    model_train_mae ,model_train_rmse ,model_train_r2_score = evaluate_metric(y_train,y_train_predict)\n",
    "    model_test_mae ,model_test_rmse ,model_test_r2_score = evaluate_metric(y_test,y_test_predict)\n",
    "    \n",
    "    print(list(models.keys())[i])\n",
    "    model_list.append(list(models.keys())[i])\n",
    "    \n",
    "    print(\"Model performance for training set\")\n",
    "    print(\" - root mean squared error {:.4f}\".format(model_train_rmse))\n",
    "    print(\" - mean absolute error {:.4f}\".format(model_train_mae))\n",
    "    print(\" - r2 score for training {:.4f}\".format(model_train_r2_score))\n",
    "    \n",
    "    print(\"--------------------------------------\")\n",
    "    \n",
    "    print(\"Model performance for testing set\")\n",
    "    print(\" - root mean squared error {:.4f}\".format(model_test_rmse))\n",
    "    print(\" - mean absolute error {:.4f}\".format(model_test_mae))\n",
    "    print(\" - r2 score for training {:.4f}\".format(model_test_r2_score))\n",
    "    r2_list.append(model_test_r2_score)\n",
    "    \n",
    "    print('='*35)\n",
    "    print('\\n')    "
   ]
  },
  {
   "cell_type": "markdown",
   "id": "0e2a62b4",
   "metadata": {},
   "source": [
    "# Results"
   ]
  },
  {
   "cell_type": "code",
   "execution_count": 41,
   "id": "509d8aae",
   "metadata": {},
   "outputs": [
    {
     "data": {
      "text/html": [
       "<div>\n",
       "<style scoped>\n",
       "    .dataframe tbody tr th:only-of-type {\n",
       "        vertical-align: middle;\n",
       "    }\n",
       "\n",
       "    .dataframe tbody tr th {\n",
       "        vertical-align: top;\n",
       "    }\n",
       "\n",
       "    .dataframe thead th {\n",
       "        text-align: right;\n",
       "    }\n",
       "</style>\n",
       "<table border=\"1\" class=\"dataframe\">\n",
       "  <thead>\n",
       "    <tr style=\"text-align: right;\">\n",
       "      <th></th>\n",
       "      <th>Model Name</th>\n",
       "      <th>R2_Score</th>\n",
       "    </tr>\n",
       "  </thead>\n",
       "  <tbody>\n",
       "    <tr>\n",
       "      <th>2</th>\n",
       "      <td>ridge</td>\n",
       "      <td>0.875907</td>\n",
       "    </tr>\n",
       "    <tr>\n",
       "      <th>0</th>\n",
       "      <td>LinearRegression</td>\n",
       "      <td>0.875863</td>\n",
       "    </tr>\n",
       "    <tr>\n",
       "      <th>6</th>\n",
       "      <td>CatBoost</td>\n",
       "      <td>0.852108</td>\n",
       "    </tr>\n",
       "    <tr>\n",
       "      <th>5</th>\n",
       "      <td>RandomForestRegressor</td>\n",
       "      <td>0.850792</td>\n",
       "    </tr>\n",
       "    <tr>\n",
       "      <th>7</th>\n",
       "      <td>XGBoost</td>\n",
       "      <td>0.842395</td>\n",
       "    </tr>\n",
       "    <tr>\n",
       "      <th>8</th>\n",
       "      <td>AdaBoost Regressor</td>\n",
       "      <td>0.830739</td>\n",
       "    </tr>\n",
       "    <tr>\n",
       "      <th>1</th>\n",
       "      <td>lasso</td>\n",
       "      <td>0.810281</td>\n",
       "    </tr>\n",
       "    <tr>\n",
       "      <th>3</th>\n",
       "      <td>kneighbor</td>\n",
       "      <td>0.773797</td>\n",
       "    </tr>\n",
       "    <tr>\n",
       "      <th>4</th>\n",
       "      <td>DecisionTreeRegressor</td>\n",
       "      <td>0.741490</td>\n",
       "    </tr>\n",
       "  </tbody>\n",
       "</table>\n",
       "</div>"
      ],
      "text/plain": [
       "              Model Name  R2_Score\n",
       "2                  ridge  0.875907\n",
       "0       LinearRegression  0.875863\n",
       "6               CatBoost  0.852108\n",
       "5  RandomForestRegressor  0.850792\n",
       "7                XGBoost  0.842395\n",
       "8     AdaBoost Regressor  0.830739\n",
       "1                  lasso  0.810281\n",
       "3             kneighbor   0.773797\n",
       "4  DecisionTreeRegressor  0.741490"
      ]
     },
     "execution_count": 41,
     "metadata": {},
     "output_type": "execute_result"
    }
   ],
   "source": [
    "pd.DataFrame(list(zip(model_list, r2_list)), columns=['Model Name', 'R2_Score']).sort_values(by=[\"R2_Score\"],ascending=False)"
   ]
  },
  {
   "cell_type": "markdown",
   "id": "82508b7d",
   "metadata": {},
   "source": [
    "# Linear Regression"
   ]
  },
  {
   "cell_type": "code",
   "execution_count": 45,
   "id": "cae52ece",
   "metadata": {},
   "outputs": [
    {
     "name": "stdout",
     "output_type": "stream",
     "text": [
      "Accuracy of linear model is : 87.5863044301674\n"
     ]
    }
   ],
   "source": [
    "lin_model= LinearRegression(fit_intercept=False)\n",
    "lin_model.fit(x_train,y_train)\n",
    "y_pred = lin_model.predict(x_test)\n",
    "score= r2_score(y_test, y_pred)*100\n",
    "print(\"Accuracy of linear model is :\",score)"
   ]
  },
  {
   "cell_type": "code",
   "execution_count": 48,
   "id": "10fc9793",
   "metadata": {},
   "outputs": [
    {
     "data": {
      "text/plain": [
       "Text(0, 0.5, 'predicted')"
      ]
     },
     "execution_count": 48,
     "metadata": {},
     "output_type": "execute_result"
    },
    {
     "data": {
      "image/png": "[encoded data removed]",
      "text/plain": [
       "<Figure size 432x288 with 1 Axes>"
      ]
     },
     "metadata": {
      "needs_background": "light"
     },
     "output_type": "display_data"
    }
   ],
   "source": [
    "plt.scatter(y_test,y_pred)\n",
    "plt.xlabel('actual')\n",
    "plt.ylabel('predicted')"
   ]
  },
  {
   "cell_type": "code",
   "execution_count": 49,
   "id": "84b77fa6",
   "metadata": {},
   "outputs": [
    {
     "data": {
      "text/plain": [
       "<AxesSubplot:xlabel='math_score'>"
      ]
     },
     "execution_count": 49,
     "metadata": {},
     "output_type": "execute_result"
    },
    {
     "data": {
      "image/png": "[encoded data removed]",
      "text/plain": [
       "<Figure size 432x288 with 1 Axes>"
      ]
     },
     "metadata": {
      "needs_background": "light"
     },
     "output_type": "display_data"
    }
   ],
   "source": [
    "sns.regplot(x=y_test,y=y_pred,ci=None,color='blue')"
   ]
  },
  {
   "cell_type": "markdown",
   "id": "594dffb8",
   "metadata": {},
   "source": [
    "# Difference between Actual and predicted"
   ]
  },
  {
   "cell_type": "code",
   "execution_count": 52,
   "id": "1470b8d0",
   "metadata": {},
   "outputs": [
    {
     "data": {
      "text/html": [
       "<div>\n",
       "<style scoped>\n",
       "    .dataframe tbody tr th:only-of-type {\n",
       "        vertical-align: middle;\n",
       "    }\n",
       "\n",
       "    .dataframe tbody tr th {\n",
       "        vertical-align: top;\n",
       "    }\n",
       "\n",
       "    .dataframe thead th {\n",
       "        text-align: right;\n",
       "    }\n",
       "</style>\n",
       "<table border=\"1\" class=\"dataframe\">\n",
       "  <thead>\n",
       "    <tr style=\"text-align: right;\">\n",
       "      <th></th>\n",
       "      <th>Actual value</th>\n",
       "      <th>Predicted_value</th>\n",
       "      <th>Difference between values</th>\n",
       "    </tr>\n",
       "  </thead>\n",
       "  <tbody>\n",
       "    <tr>\n",
       "      <th>521</th>\n",
       "      <td>91</td>\n",
       "      <td>76.511652</td>\n",
       "      <td>14.488348</td>\n",
       "    </tr>\n",
       "    <tr>\n",
       "      <th>737</th>\n",
       "      <td>53</td>\n",
       "      <td>58.898180</td>\n",
       "      <td>-5.898180</td>\n",
       "    </tr>\n",
       "    <tr>\n",
       "      <th>740</th>\n",
       "      <td>80</td>\n",
       "      <td>76.938478</td>\n",
       "      <td>3.061522</td>\n",
       "    </tr>\n",
       "    <tr>\n",
       "      <th>660</th>\n",
       "      <td>74</td>\n",
       "      <td>76.965881</td>\n",
       "      <td>-2.965881</td>\n",
       "    </tr>\n",
       "    <tr>\n",
       "      <th>411</th>\n",
       "      <td>84</td>\n",
       "      <td>87.633152</td>\n",
       "      <td>-3.633152</td>\n",
       "    </tr>\n",
       "    <tr>\n",
       "      <th>...</th>\n",
       "      <td>...</td>\n",
       "      <td>...</td>\n",
       "      <td>...</td>\n",
       "    </tr>\n",
       "    <tr>\n",
       "      <th>468</th>\n",
       "      <td>77</td>\n",
       "      <td>72.854766</td>\n",
       "      <td>4.145234</td>\n",
       "    </tr>\n",
       "    <tr>\n",
       "      <th>935</th>\n",
       "      <td>70</td>\n",
       "      <td>62.606548</td>\n",
       "      <td>7.393452</td>\n",
       "    </tr>\n",
       "    <tr>\n",
       "      <th>428</th>\n",
       "      <td>65</td>\n",
       "      <td>58.650347</td>\n",
       "      <td>6.349653</td>\n",
       "    </tr>\n",
       "    <tr>\n",
       "      <th>7</th>\n",
       "      <td>40</td>\n",
       "      <td>44.841375</td>\n",
       "      <td>-4.841375</td>\n",
       "    </tr>\n",
       "    <tr>\n",
       "      <th>155</th>\n",
       "      <td>70</td>\n",
       "      <td>78.059841</td>\n",
       "      <td>-8.059841</td>\n",
       "    </tr>\n",
       "  </tbody>\n",
       "</table>\n",
       "<p>300 rows × 3 columns</p>\n",
       "</div>"
      ],
      "text/plain": [
       "     Actual value  Predicted_value  Difference between values\n",
       "521            91        76.511652                  14.488348\n",
       "737            53        58.898180                  -5.898180\n",
       "740            80        76.938478                   3.061522\n",
       "660            74        76.965881                  -2.965881\n",
       "411            84        87.633152                  -3.633152\n",
       "..            ...              ...                        ...\n",
       "468            77        72.854766                   4.145234\n",
       "935            70        62.606548                   7.393452\n",
       "428            65        58.650347                   6.349653\n",
       "7              40        44.841375                  -4.841375\n",
       "155            70        78.059841                  -8.059841\n",
       "\n",
       "[300 rows x 3 columns]"
      ]
     },
     "execution_count": 52,
     "metadata": {},
     "output_type": "execute_result"
    }
   ],
   "source": [
    "pref_df = pd.DataFrame({'Actual value':y_test , 'Predicted_value':y_pred , 'Difference between values':y_test-y_pred})\n",
    "pref_df"
   ]
  },
  {
   "cell_type": "code",
   "execution_count": null,
   "id": "00b86f78",
   "metadata": {},
   "outputs": [],
   "source": []
  }
 ],
 "metadata": {
  "kernelspec": {
   "display_name": "Python 3 (ipykernel)",
   "language": "python",
   "name": "python3"
  },
  "language_info": {
   "codemirror_mode": {
    "name": "ipython",
    "version": 3
   },
   "file_extension": ".py",
   "mimetype": "text/x-python",
   "name": "python",
   "nbconvert_exporter": "python",
   "pygments_lexer": "ipython3",
   "version": "3.9.13"
  }
 },
 "nbformat": 4,
 "nbformat_minor": 5
}
